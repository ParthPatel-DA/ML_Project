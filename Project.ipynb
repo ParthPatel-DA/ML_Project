{
  "nbformat": 4,
  "nbformat_minor": 0,
  "metadata": {
    "colab": {
      "provenance": [],
      "authorship_tag": "ABX9TyN47iRWFp9uCGf62622iUTp",
      "include_colab_link": true
    },
    "kernelspec": {
      "name": "python3",
      "display_name": "Python 3"
    },
    "language_info": {
      "name": "python"
    }
  },
  "cells": [
    {
      "cell_type": "markdown",
      "metadata": {
        "id": "view-in-github",
        "colab_type": "text"
      },
      "source": [
        "<a href=\"https://colab.research.google.com/github/ParthPatel-DA/ML_Project/blob/master/Project.ipynb\" target=\"_parent\"><img src=\"https://colab.research.google.com/assets/colab-badge.svg\" alt=\"Open In Colab\"/></a>"
      ]
    },
    {
      "cell_type": "markdown",
      "source": [
        "# **Importing Necessary Libraries**"
      ],
      "metadata": {
        "id": "v8lBK94A2e9O"
      }
    },
    {
      "cell_type": "code",
      "source": [
        "import numpy as np\n",
        "import pandas as pd\n",
        "import matplotlib.pyplot as plt\n",
        "import seaborn as sns\n",
        "from sklearn.cluster import KMeans\n",
        "from sklearn.impute import SimpleImputer\n",
        "from sklearn.model_selection import train_test_split, GridSearchCV, cross_val_score\n",
        "from sklearn.preprocessing import StandardScaler, LabelEncoder\n",
        "from sklearn.metrics import classification_report, confusion_matrix\n",
        "from sklearn.linear_model import LogisticRegression, SGDClassifier\n",
        "from sklearn.svm import SVC\n",
        "from sklearn.tree import DecisionTreeClassifier\n",
        "from sklearn.ensemble import RandomForestClassifier\n",
        "from sklearn.neural_network import MLPClassifier\n",
        "from keras.models import Sequential\n",
        "from keras.layers import Dense"
      ],
      "metadata": {
        "id": "nbA7VUiv0oHO"
      },
      "execution_count": null,
      "outputs": []
    },
    {
      "cell_type": "markdown",
      "source": [
        "# **Importing the Dataset**"
      ],
      "metadata": {
        "id": "A2xV7bKv2k9z"
      }
    },
    {
      "cell_type": "code",
      "source": [
        "data = pd.read_csv('cost_of_living_us.csv')"
      ],
      "metadata": {
        "id": "ioMi_rQA2XOu"
      },
      "execution_count": null,
      "outputs": []
    },
    {
      "cell_type": "code",
      "source": [
        "data.head()"
      ],
      "metadata": {
        "id": "E2_V-ugPu1Cy"
      },
      "execution_count": null,
      "outputs": []
    },
    {
      "cell_type": "code",
      "source": [
        "data.columns"
      ],
      "metadata": {
        "id": "-8HVvdff2u50"
      },
      "execution_count": null,
      "outputs": []
    },
    {
      "cell_type": "code",
      "source": [
        "data.describe()"
      ],
      "metadata": {
        "id": "UYbarHbx2xg3"
      },
      "execution_count": null,
      "outputs": []
    },
    {
      "cell_type": "code",
      "source": [
        "data.isnull().sum()"
      ],
      "metadata": {
        "id": "7cBeEdAd22XJ"
      },
      "execution_count": null,
      "outputs": []
    },
    {
      "cell_type": "code",
      "source": [
        "data['family_member_count'].value_counts()"
      ],
      "metadata": {
        "id": "3IZAW23d26sW"
      },
      "execution_count": null,
      "outputs": []
    },
    {
      "cell_type": "markdown",
      "source": [
        "# **Data Visualization**"
      ],
      "metadata": {
        "id": "MxX-avWP3IZc"
      }
    },
    {
      "cell_type": "code",
      "source": [
        "plt.scatter(data['family_member_count'], data['median_family_income'])\n",
        "plt.title('relation of fixed acidity with wine')\n",
        "plt.xlabel('quality')\n",
        "plt.ylabel('fixed acidity')\n",
        "plt.show()"
      ],
      "metadata": {
        "id": "4Xozz6J63H7x"
      },
      "execution_count": null,
      "outputs": []
    },
    {
      "cell_type": "code",
      "source": [
        "data[['housing_cost', 'food_cost', 'transportation_cost', 'healthcare_cost', 'other_necessities_cost', 'childcare_cost', 'taxes']].hist(bins=15, figsize=(15, 10))\n",
        "plt.suptitle('Distribution of Various Costs')\n",
        "plt.show()"
      ],
      "metadata": {
        "id": "vf9bAFO246kA"
      },
      "execution_count": null,
      "outputs": []
    },
    {
      "cell_type": "code",
      "source": [
        "avg_cost_by_state = data.groupby('state')['median_family_income'].mean()\n",
        "avg_cost_by_state.plot(kind='bar', figsize=(12, 6))\n",
        "plt.title('Average median family income by State')\n",
        "plt.ylabel('Average median family income')\n",
        "plt.xlabel('State')\n",
        "plt.show()"
      ],
      "metadata": {
        "id": "LdiQQ8L4b5Xx"
      },
      "execution_count": null,
      "outputs": []
    },
    {
      "cell_type": "code",
      "source": [
        "avg_cost_by_state = data.groupby('state')['total_cost'].mean()\n",
        "avg_cost_by_state.plot(kind='bar', figsize=(12, 6))\n",
        "plt.title('Average Total Cost by State')\n",
        "plt.ylabel('Average Total Cost')\n",
        "plt.xlabel('State')\n",
        "plt.show()"
      ],
      "metadata": {
        "id": "t5MEQ1wV5B15"
      },
      "execution_count": null,
      "outputs": []
    },
    {
      "cell_type": "code",
      "source": [
        "plt.figure(figsize=(10, 6))\n",
        "sns.boxplot(x='isMetro', y='total_cost', data=data)\n",
        "plt.title('Cost Distribution in Metro vs Non-Metro Areas')\n",
        "plt.xlabel('Is Metro Area')\n",
        "plt.ylabel('Total Cost')\n",
        "plt.show()"
      ],
      "metadata": {
        "id": "LzgLWOY95KCY"
      },
      "execution_count": null,
      "outputs": []
    },
    {
      "cell_type": "code",
      "source": [
        "plt.scatter(data['family_member_count'], data['total_cost'])\n",
        "plt.title('Family Member Count vs Total Cost')\n",
        "plt.xlabel('Family Member Count')\n",
        "plt.ylabel('Total Cost')\n",
        "plt.show()"
      ],
      "metadata": {
        "id": "tE4zlsth5RTl"
      },
      "execution_count": null,
      "outputs": []
    },
    {
      "cell_type": "code",
      "source": [
        "corr = data[['housing_cost', 'food_cost', 'transportation_cost', 'healthcare_cost', 'other_necessities_cost', 'childcare_cost', 'taxes']].corr()\n",
        "plt.figure(figsize=(10, 8))\n",
        "sns.heatmap(corr, annot=True, cmap='coolwarm')\n",
        "plt.title('Correlation Heatmap')\n",
        "plt.show()"
      ],
      "metadata": {
        "id": "16hgHQQ1577u"
      },
      "execution_count": null,
      "outputs": []
    },
    {
      "cell_type": "code",
      "source": [
        "sns.pairplot(data)"
      ],
      "metadata": {
        "id": "VtaDtdd5v4Yq"
      },
      "execution_count": null,
      "outputs": []
    },
    {
      "cell_type": "markdown",
      "source": [
        "# **Data pre-processing**"
      ],
      "metadata": {
        "id": "QftDtK4TwEGq"
      }
    },
    {
      "cell_type": "markdown",
      "source": [
        "Handle Missing Values"
      ],
      "metadata": {
        "id": "CilXmMA8tDes"
      }
    },
    {
      "cell_type": "code",
      "source": [
        "imputer = SimpleImputer(strategy='median')\n",
        "data['median_family_income'] = imputer.fit_transform(data[['median_family_income']])"
      ],
      "metadata": {
        "id": "_-cPqJybtCud"
      },
      "execution_count": null,
      "outputs": []
    },
    {
      "cell_type": "markdown",
      "source": [
        "Encoding Categorical Variables"
      ],
      "metadata": {
        "id": "r5gwSM5gtaLa"
      }
    },
    {
      "cell_type": "code",
      "source": [
        "label_encoder = LabelEncoder()\n",
        "data['state'] = label_encoder.fit_transform(data['state'])\n",
        "data['isMetro'] = label_encoder.fit_transform(data['isMetro'])\n",
        "data['family_member_count'] = label_encoder.fit_transform(data['family_member_count'])"
      ],
      "metadata": {
        "id": "WetbieZTtVTM"
      },
      "execution_count": null,
      "outputs": []
    },
    {
      "cell_type": "markdown",
      "source": [
        "Identifying `esi_category` using KMeans"
      ],
      "metadata": {
        "id": "oXMrlI1Vtgwg"
      }
    },
    {
      "cell_type": "code",
      "source": [
        "# Constants for regional and tax adjustments\n",
        "COLA_METRO = 1.1\n",
        "COLA_NON_METRO = 1.0\n",
        "EMERGENCY_FUND_RATE = 0.15  # 15% of disposable income for savings/emergency fund\n",
        "\n",
        "# Calculate various ratios and factors\n",
        "data['disposable_income'] = data['median_family_income'] - data['total_cost']\n",
        "data['DIR'] = data['disposable_income'] / data['median_family_income']\n",
        "data['CBR'] = (data['housing_cost'] + data['food_cost'] + data['transportation_cost'] +\n",
        "               data['healthcare_cost'] + data['other_necessities_cost'] + data['childcare_cost']) / data['median_family_income']\n",
        "\n",
        "# Function to calculate dependency ratio\n",
        "def dependency_ratio(row):\n",
        "    family_members = row['family_member_count']\n",
        "    return 1 + (family_members - 1) * 0.1  # 10% increase for each additional family member\n",
        "\n",
        "# Function to calculate regional cost adjustment\n",
        "def regional_cost_adjustment(row):\n",
        "    return COLA_METRO if row['isMetro'] else COLA_NON_METRO\n",
        "\n",
        "# Function to calculate tax burden adjustment\n",
        "def tax_burden_adjustment(row):\n",
        "    return 1 - (row['taxes'] / row['median_family_income'])\n",
        "\n",
        "# Calculate Economic Stability Index (ESI)\n",
        "def calculate_esi(row):\n",
        "    DIR = row['DIR']\n",
        "    CBR = row['CBR']\n",
        "    DR = dependency_ratio(row)\n",
        "    RCA = regional_cost_adjustment(row)\n",
        "    SEFF = row['disposable_income'] * EMERGENCY_FUND_RATE\n",
        "    TBA = tax_burden_adjustment(row)\n",
        "\n",
        "    esi = (DIR * SEFF * TBA) / (CBR * DR * RCA)\n",
        "    return esi\n",
        "\n",
        "# Apply the ESI calculation\n",
        "data['economic_stability_index'] = data.apply(calculate_esi, axis=1)\n",
        "\n",
        "# Calculate mean and standard deviation of ESI\n",
        "mean_esi = data['economic_stability_index'].mean()\n",
        "std_dev_esi = data['economic_stability_index'].std()\n",
        "\n",
        "def categorize_esi(esi):\n",
        "    if esi < mean_esi - std_dev_esi:\n",
        "        return 'very low'\n",
        "    elif mean_esi - std_dev_esi <= esi < mean_esi:\n",
        "        return 'low'\n",
        "    elif mean_esi <= esi < mean_esi + std_dev_esi:\n",
        "        return 'moderate'\n",
        "    elif mean_esi + std_dev_esi <= esi < mean_esi + 2 * std_dev_esi:\n",
        "        return 'high'\n",
        "    else:\n",
        "        return 'very high'\n",
        "\n",
        "data['esi_category'] = data['economic_stability_index'].apply(categorize_esi)"
      ],
      "metadata": {
        "id": "o-Z8ovhLHLtI"
      },
      "execution_count": null,
      "outputs": []
    },
    {
      "cell_type": "markdown",
      "source": [
        "Standard Scaling for Numerical Features"
      ],
      "metadata": {
        "id": "b89HYUgIt2YH"
      }
    },
    {
      "cell_type": "code",
      "source": [
        "numerical_features = data.select_dtypes(include=['int64', 'float64']).columns\n",
        "scaler = StandardScaler()\n",
        "data[numerical_features] = scaler.fit_transform(data[numerical_features])"
      ],
      "metadata": {
        "id": "gIKaH5oNtzRs"
      },
      "execution_count": null,
      "outputs": []
    },
    {
      "cell_type": "markdown",
      "source": [
        "Feature Selection"
      ],
      "metadata": {
        "id": "oBlSFEtct-ov"
      }
    },
    {
      "cell_type": "code",
      "source": [
        "X = data.drop(['case_id', 'areaname', 'county', 'disposable_income', 'DIR', 'CBR', 'economic_stability_index', 'esi_category'], axis=1)\n",
        "y = data['esi_category']"
      ],
      "metadata": {
        "id": "Pvb5l_MWFFk-"
      },
      "execution_count": null,
      "outputs": []
    },
    {
      "cell_type": "markdown",
      "source": [
        "# **Splitting the into training set and test set**"
      ],
      "metadata": {
        "id": "mZawbMNhuBus"
      }
    },
    {
      "cell_type": "code",
      "source": [
        "X_train, X_test, y_train, y_test = train_test_split(X, y, test_size=0.25, random_state=42)"
      ],
      "metadata": {
        "id": "2egnD-fduIqK"
      },
      "execution_count": null,
      "outputs": []
    },
    {
      "cell_type": "markdown",
      "source": [
        "# **Modelling**"
      ],
      "metadata": {
        "id": "eylf8EJXw3yE"
      }
    },
    {
      "cell_type": "code",
      "source": [
        "def show_result_graph(actual, predicted):\n",
        "  # Create a dataframe for easier plotting\n",
        "  df_comparison = pd.DataFrame({'Actual': actual, 'Predicted': predicted})\n",
        "\n",
        "  # Create a figure and a set of subplots\n",
        "  fig, ax = plt.subplots(figsize=(12, 6))\n",
        "\n",
        "  # Plot actual values\n",
        "  df_comparison['Actual'].value_counts().sort_index().plot(kind='bar', ax=ax, position=0, width=0.4, label='Actual')\n",
        "\n",
        "  # Plot predicted values\n",
        "  df_comparison['Predicted'].value_counts().sort_index().plot(kind='bar', ax=ax, position=1, width=0.4, color='r', label='Predicted')\n",
        "\n",
        "  # Adding titles and labels\n",
        "  plt.title('Actual vs Predicted Values')\n",
        "  plt.xlabel('Classes')\n",
        "  plt.ylabel('Counts')\n",
        "  plt.xticks(ticks=np.arange(len(df_comparison['Actual'].value_counts().sort_index())), labels=df_comparison['Actual'].value_counts().sort_index().index, rotation=0)\n",
        "  plt.legend()\n",
        "  plt.grid(True)\n",
        "  plt.show()\n",
        "\n",
        "def generate_report(actual, predicted):\n",
        "  print(classification_report(actual, predicted))\n",
        "  show_result_graph(actual, predicted)"
      ],
      "metadata": {
        "id": "i3zEjs6--AR0"
      },
      "execution_count": null,
      "outputs": []
    },
    {
      "cell_type": "markdown",
      "source": [
        "Logistic Regression"
      ],
      "metadata": {
        "id": "Vi-35SYyxEjw"
      }
    },
    {
      "cell_type": "code",
      "execution_count": null,
      "metadata": {
        "id": "EuCCkLnK7_7N"
      },
      "outputs": [],
      "source": [
        "log_reg = LogisticRegression(max_iter=1000)\n",
        "log_reg.fit(X_train, y_train)\n",
        "y_pred_log_reg = log_reg.predict(X_test)\n",
        "print(\"Logistic Regression Accuracy:\", log_reg.score(X_test, y_test))\n",
        "generate_report(y_test, y_pred_log_reg)"
      ]
    },
    {
      "cell_type": "markdown",
      "source": [
        "SGD Classifier"
      ],
      "metadata": {
        "id": "jZLwvGvkxOyT"
      }
    },
    {
      "cell_type": "code",
      "source": [
        "sgd_clf = SGDClassifier()\n",
        "sgd_clf.fit(X_train, y_train)\n",
        "y_pred_sgd = sgd_clf.predict(X_test)\n",
        "print(\"SGD Classifier Accuracy:\", sgd_clf.score(X_test, y_test))\n",
        "generate_report(y_test, y_pred_sgd)"
      ],
      "metadata": {
        "id": "X1KYRKrBxLf6"
      },
      "execution_count": null,
      "outputs": []
    },
    {
      "cell_type": "markdown",
      "source": [
        "SVC"
      ],
      "metadata": {
        "id": "uAURlvxjxRz0"
      }
    },
    {
      "cell_type": "code",
      "source": [
        "svc = SVC()\n",
        "svc.fit(X_train, y_train)\n",
        "y_pred_svc = svc.predict(X_test)\n",
        "print(\"SVC Accuracy:\", svc.score(X_test, y_test))\n",
        "generate_report(y_test, y_pred_svc)"
      ],
      "metadata": {
        "id": "_JGvdBTnxSxy"
      },
      "execution_count": null,
      "outputs": []
    },
    {
      "cell_type": "markdown",
      "source": [
        "Decision Tree"
      ],
      "metadata": {
        "id": "b3UirTghxYm-"
      }
    },
    {
      "cell_type": "code",
      "source": [
        "decision_tree = DecisionTreeClassifier()\n",
        "decision_tree.fit(X_train, y_train)\n",
        "y_pred_decision_tree = decision_tree.predict(X_test)\n",
        "print(\"Decision Tree Accuracy:\", decision_tree.score(X_test, y_test))\n",
        "generate_report(y_test, y_pred_decision_tree)"
      ],
      "metadata": {
        "id": "4Nd14QR-xZXq"
      },
      "execution_count": null,
      "outputs": []
    },
    {
      "cell_type": "markdown",
      "source": [
        "Random Forest"
      ],
      "metadata": {
        "id": "YXZCHdNjxfHY"
      }
    },
    {
      "cell_type": "code",
      "source": [
        "random_forest = RandomForestClassifier(n_estimators=100)\n",
        "random_forest.fit(X_train, y_train)\n",
        "y_pred_random_forest = random_forest.predict(X_test)\n",
        "print(\"Random Forest Accuracy:\", random_forest.score(X_test, y_test))\n",
        "generate_report(y_test, y_pred_random_forest)"
      ],
      "metadata": {
        "id": "qtl3NHGFxgCO"
      },
      "execution_count": null,
      "outputs": []
    },
    {
      "cell_type": "markdown",
      "source": [
        "MLP Classifier"
      ],
      "metadata": {
        "id": "fLztojYVxnzm"
      }
    },
    {
      "cell_type": "code",
      "source": [
        "mlp = MLPClassifier(hidden_layer_sizes=(100,), max_iter=500)\n",
        "mlp.fit(X_train, y_train)\n",
        "y_pred_mlp = mlp.predict(X_test)\n",
        "print(\"MLP Classifier Accuracy:\", mlp.score(X_test, y_test))\n",
        "generate_report(y_test, y_pred_mlp)"
      ],
      "metadata": {
        "id": "eBZJhyjpxmbl"
      },
      "execution_count": null,
      "outputs": []
    },
    {
      "cell_type": "markdown",
      "source": [
        "Artificial Neural Networks"
      ],
      "metadata": {
        "id": "bvf2G80gxvqN"
      }
    },
    {
      "cell_type": "code",
      "source": [
        "from keras.utils import to_categorical\n",
        "\n",
        "# One-Hot Encoding of the Target Variable\n",
        "encoder = LabelEncoder()\n",
        "y_train_encoded = encoder.fit_transform(y_train)\n",
        "y_train_encoded = to_categorical(y_train_encoded, num_classes=5)\n",
        "\n",
        "y_test_encoded = encoder.transform(y_test)\n",
        "y_test_encoded = to_categorical(y_test_encoded, num_classes=5)\n",
        "\n",
        "ann = Sequential()\n",
        "ann.add(Dense(units=16, activation='relu', input_dim=X_train.shape[1]))\n",
        "ann.add(Dense(units=16, activation='relu'))\n",
        "ann.add(Dense(units=5, activation='sigmoid'))  # Change to 3 units for 3 categories\n",
        "ann.compile(optimizer='adam', loss='categorical_crossentropy', metrics=['accuracy'])\n",
        "ann.fit(X_train, y_train_encoded, batch_size=32, epochs=100)\n",
        "\n",
        "# Predicting the Test set results\n",
        "y_pred_ann = ann.predict(X_test)\n",
        "y_pred_ann = np.argmax(y_pred_ann, axis=1)  # Convert predictions to class labels\n",
        "\n",
        "# Evaluating the Model\n",
        "loss, accuracy = ann.evaluate(X_test, y_test_encoded)\n",
        "print(\"ANN Accuracy:\", accuracy)\n",
        "\n",
        "# Reverse Transform to Original Class Names\n",
        "y_pred_ann = encoder.inverse_transform(y_pred_ann)\n",
        "y_test_original = encoder.inverse_transform(np.argmax(y_test_encoded, axis=1))\n",
        "\n",
        "generate_report(y_test_original, y_pred_ann)"
      ],
      "metadata": {
        "id": "EYuivGtjtNrK"
      },
      "execution_count": null,
      "outputs": []
    }
  ]
}